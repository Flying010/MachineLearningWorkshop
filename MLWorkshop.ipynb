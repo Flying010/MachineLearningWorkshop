{
 "cells": [
  {
   "cell_type": "code",
   "execution_count": 4,
   "id": "0b6097a2",
   "metadata": {},
   "outputs": [
    {
     "data": {
      "text/plain": [
       "0      Bus\n",
       "1      Bus\n",
       "2      Bus\n",
       "3    Train\n",
       "4      Car\n",
       "5      Car\n",
       "6    Train\n",
       "7      Bus\n",
       "8    Train\n",
       "9      Car\n",
       "Name: Transportation, dtype: object"
      ]
     },
     "execution_count": 4,
     "metadata": {},
     "output_type": "execute_result"
    }
   ],
   "source": [
    "import pandas as pd\n",
    "\n",
    "#Make sure that the location of this notebook is the same as where Transportation.csv is located. For example, my\n",
    "#Transportation.csv file and MLWorkshop jupyter notebook are both located in my Desktop\n",
    "\n",
    "\n",
    "#Converts data given into a data frame (looks like an excel sheet)\n",
    "data = pd.read_csv(\"Transportation.csv\")\n",
    "\n",
    "#Divides data into input and output\n",
    "inputData = data.drop(columns = [\"Transportation\"])\n",
    "outputData = data[\"Transportation\"]\n",
    "\n",
    "outputData\n",
    "\n",
    "#To run a cell, you can either click on the run button or press cmd+E (mucn faster)"
   ]
  },
  {
   "cell_type": "code",
   "execution_count": 5,
   "id": "15038f2f",
   "metadata": {},
   "outputs": [
    {
     "data": {
      "text/html": [
       "<div>\n",
       "<style scoped>\n",
       "    .dataframe tbody tr th:only-of-type {\n",
       "        vertical-align: middle;\n",
       "    }\n",
       "\n",
       "    .dataframe tbody tr th {\n",
       "        vertical-align: top;\n",
       "    }\n",
       "\n",
       "    .dataframe thead th {\n",
       "        text-align: right;\n",
       "    }\n",
       "</style>\n",
       "<table border=\"1\" class=\"dataframe\">\n",
       "  <thead>\n",
       "    <tr style=\"text-align: right;\">\n",
       "      <th></th>\n",
       "      <th>Gender</th>\n",
       "      <th>Car Ownership</th>\n",
       "      <th>Travel Cost</th>\n",
       "      <th>Income Level</th>\n",
       "    </tr>\n",
       "  </thead>\n",
       "  <tbody>\n",
       "    <tr>\n",
       "      <th>0</th>\n",
       "      <td>1</td>\n",
       "      <td>0</td>\n",
       "      <td>0</td>\n",
       "      <td>1</td>\n",
       "    </tr>\n",
       "    <tr>\n",
       "      <th>1</th>\n",
       "      <td>1</td>\n",
       "      <td>1</td>\n",
       "      <td>0</td>\n",
       "      <td>2</td>\n",
       "    </tr>\n",
       "    <tr>\n",
       "      <th>2</th>\n",
       "      <td>1</td>\n",
       "      <td>1</td>\n",
       "      <td>0</td>\n",
       "      <td>2</td>\n",
       "    </tr>\n",
       "    <tr>\n",
       "      <th>3</th>\n",
       "      <td>1</td>\n",
       "      <td>0</td>\n",
       "      <td>2</td>\n",
       "      <td>2</td>\n",
       "    </tr>\n",
       "    <tr>\n",
       "      <th>4</th>\n",
       "      <td>2</td>\n",
       "      <td>2</td>\n",
       "      <td>1</td>\n",
       "      <td>2</td>\n",
       "    </tr>\n",
       "    <tr>\n",
       "      <th>5</th>\n",
       "      <td>0</td>\n",
       "      <td>2</td>\n",
       "      <td>1</td>\n",
       "      <td>0</td>\n",
       "    </tr>\n",
       "    <tr>\n",
       "      <th>6</th>\n",
       "      <td>0</td>\n",
       "      <td>1</td>\n",
       "      <td>0</td>\n",
       "      <td>2</td>\n",
       "    </tr>\n",
       "    <tr>\n",
       "      <th>7</th>\n",
       "      <td>0</td>\n",
       "      <td>0</td>\n",
       "      <td>0</td>\n",
       "      <td>1</td>\n",
       "    </tr>\n",
       "    <tr>\n",
       "      <th>8</th>\n",
       "      <td>0</td>\n",
       "      <td>1</td>\n",
       "      <td>2</td>\n",
       "      <td>2</td>\n",
       "    </tr>\n",
       "    <tr>\n",
       "      <th>9</th>\n",
       "      <td>0</td>\n",
       "      <td>1</td>\n",
       "      <td>1</td>\n",
       "      <td>0</td>\n",
       "    </tr>\n",
       "  </tbody>\n",
       "</table>\n",
       "</div>"
      ],
      "text/plain": [
       "   Gender  Car Ownership  Travel Cost  Income Level\n",
       "0       1              0            0             1\n",
       "1       1              1            0             2\n",
       "2       1              1            0             2\n",
       "3       1              0            2             2\n",
       "4       2              2            1             2\n",
       "5       0              2            1             0\n",
       "6       0              1            0             2\n",
       "7       0              0            0             1\n",
       "8       0              1            2             2\n",
       "9       0              1            1             0"
      ]
     },
     "execution_count": 5,
     "metadata": {},
     "output_type": "execute_result"
    }
   ],
   "source": [
    "#ML algorithms usually take in integers as inputs. Decision Trees require inputs to be integers. In this cell, we're\n",
    "#converting all input columns which are strings into integers (Gender, Travel Cost, and Income Level)\n",
    "\n",
    "from sklearn.preprocessing import LabelEncoder\n",
    "\n",
    "gender = LabelEncoder()\n",
    "travelCost = LabelEncoder()\n",
    "incomeLevel = LabelEncoder()\n",
    "\n",
    "inputData[\"Gender\"] = gender.fit_transform(inputData[\"Gender\"])\n",
    "inputData[\"Travel Cost\"] = travelCost.fit_transform(inputData[\"Travel Cost\"])\n",
    "inputData[\"Income Level\"] = incomeLevel.fit_transform(inputData[\"Income Level\"])\n",
    "\n",
    "inputData"
   ]
  },
  {
   "cell_type": "code",
   "execution_count": 7,
   "id": "88aebc5b",
   "metadata": {},
   "outputs": [
    {
     "data": {
      "text/plain": [
       "array(['Train'], dtype=object)"
      ]
     },
     "execution_count": 7,
     "metadata": {},
     "output_type": "execute_result"
    }
   ],
   "source": [
    "from sklearn.tree import DecisionTreeClassifier\n",
    "\n",
    "model = DecisionTreeClassifier()\n",
    "\n",
    "model.fit(inputData, outputData)\n",
    "\n",
    "\n",
    "#Male, 0, Standard, Medium\n",
    "predictions = model.predict([[1,0,2, 2]])\n",
    "\n",
    "predictions"
   ]
  },
  {
   "cell_type": "code",
   "execution_count": 9,
   "id": "3a7c023f",
   "metadata": {},
   "outputs": [
    {
     "data": {
      "text/plain": [
       "array(['Bus'], dtype=object)"
      ]
     },
     "execution_count": 9,
     "metadata": {},
     "output_type": "execute_result"
    }
   ],
   "source": []
  }
 ],
 "metadata": {
  "kernelspec": {
   "display_name": "Python 3",
   "language": "python",
   "name": "python3"
  },
  "language_info": {
   "codemirror_mode": {
    "name": "ipython",
    "version": 3
   },
   "file_extension": ".py",
   "mimetype": "text/x-python",
   "name": "python",
   "nbconvert_exporter": "python",
   "pygments_lexer": "ipython3",
   "version": "3.8.8"
  }
 },
 "nbformat": 4,
 "nbformat_minor": 5
}
